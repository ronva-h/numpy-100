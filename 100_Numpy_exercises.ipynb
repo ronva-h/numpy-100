{
  "nbformat": 4,
  "nbformat_minor": 5,
  "metadata": {
    "colab": {
      "name": "100_Numpy_exercises.ipynb",
      "provenance": []
    },
    "language_info": {
      "name": "python"
    },
    "kernelspec": {
      "name": "python3",
      "display_name": "Python 3"
    }
  },
  "cells": [
    {
      "cell_type": "markdown",
      "metadata": {
        "id": "c742d9cc"
      },
      "source": [
        "# 100 numpy exercises\n",
        "\n",
        "This is a collection of exercises that have been collected in the numpy mailing list, on stack overflow\n",
        "and in the numpy documentation. The goal of this collection is to offer a quick reference for both old\n",
        "and new users but also to provide a set of exercises for those who teach.\n",
        "\n",
        "\n",
        "If you find an error or think you've a better way to solve some of them, feel\n",
        "free to open an issue at <https://github.com/rougier/numpy-100>."
      ],
      "id": "c742d9cc"
    },
    {
      "cell_type": "markdown",
      "metadata": {
        "id": "4292e21c"
      },
      "source": [
        "File automatically generated. See the documentation to update questions/answers/hints programmatically."
      ],
      "id": "4292e21c"
    },
    {
      "cell_type": "markdown",
      "metadata": {
        "id": "e1eba8a7"
      },
      "source": [
        "Run the `initialize.py` module, then for each question you can query the\n",
        "answer or an hint with `hint(n)` or `answer(n)` for `n` question number."
      ],
      "id": "e1eba8a7"
    },
    {
      "cell_type": "code",
      "metadata": {
        "id": "1ca6f730",
        "outputId": "b2e15c6d-8450-4122-841f-7b90c19dcc76",
        "colab": {
          "base_uri": "https://localhost:8080/"
        }
      },
      "source": [
        "%run initialise.py"
      ],
      "id": "1ca6f730",
      "execution_count": 1,
      "outputs": [
        {
          "output_type": "stream",
          "text": [
            "ERROR:root:File `'initialise.py'` not found.\n"
          ],
          "name": "stderr"
        }
      ]
    },
    {
      "cell_type": "markdown",
      "metadata": {
        "id": "c6ed9243"
      },
      "source": [
        "#### 1. Import the numpy package under the name `np` (★☆☆)"
      ],
      "id": "c6ed9243"
    },
    {
      "cell_type": "code",
      "metadata": {
        "id": "4dc18925"
      },
      "source": [
        "import numpy as np"
      ],
      "id": "4dc18925",
      "execution_count": 2,
      "outputs": []
    },
    {
      "cell_type": "markdown",
      "metadata": {
        "id": "b4882d94"
      },
      "source": [
        "#### 2. Print the numpy version and the configuration (★☆☆)"
      ],
      "id": "b4882d94"
    },
    {
      "cell_type": "code",
      "metadata": {
        "id": "9a41fb2b",
        "outputId": "64ba0ffe-170f-40ff-8c68-70d70629427d",
        "colab": {
          "base_uri": "https://localhost:8080/"
        }
      },
      "source": [
        "np.__version__\n",
        "np.show_config()"
      ],
      "id": "9a41fb2b",
      "execution_count": 6,
      "outputs": [
        {
          "output_type": "stream",
          "text": [
            "blas_mkl_info:\n",
            "  NOT AVAILABLE\n",
            "blis_info:\n",
            "  NOT AVAILABLE\n",
            "openblas_info:\n",
            "    libraries = ['openblas', 'openblas']\n",
            "    library_dirs = ['/usr/local/lib']\n",
            "    language = c\n",
            "    define_macros = [('HAVE_CBLAS', None)]\n",
            "blas_opt_info:\n",
            "    libraries = ['openblas', 'openblas']\n",
            "    library_dirs = ['/usr/local/lib']\n",
            "    language = c\n",
            "    define_macros = [('HAVE_CBLAS', None)]\n",
            "lapack_mkl_info:\n",
            "  NOT AVAILABLE\n",
            "openblas_lapack_info:\n",
            "    libraries = ['openblas', 'openblas']\n",
            "    library_dirs = ['/usr/local/lib']\n",
            "    language = c\n",
            "    define_macros = [('HAVE_CBLAS', None)]\n",
            "lapack_opt_info:\n",
            "    libraries = ['openblas', 'openblas']\n",
            "    library_dirs = ['/usr/local/lib']\n",
            "    language = c\n",
            "    define_macros = [('HAVE_CBLAS', None)]\n"
          ],
          "name": "stdout"
        }
      ]
    },
    {
      "cell_type": "markdown",
      "metadata": {
        "id": "084258bf"
      },
      "source": [
        "#### 3. Create a null vector of size 10 (★☆☆)"
      ],
      "id": "084258bf"
    },
    {
      "cell_type": "code",
      "metadata": {
        "id": "660c6b91",
        "outputId": "8cd4e702-e38a-4ce9-8b2c-01214c4c2a60",
        "colab": {
          "base_uri": "https://localhost:8080/"
        }
      },
      "source": [
        "np.zeros(10)"
      ],
      "id": "660c6b91",
      "execution_count": 7,
      "outputs": [
        {
          "output_type": "execute_result",
          "data": {
            "text/plain": [
              "array([0., 0., 0., 0., 0., 0., 0., 0., 0., 0.])"
            ]
          },
          "metadata": {
            "tags": []
          },
          "execution_count": 7
        }
      ]
    },
    {
      "cell_type": "markdown",
      "metadata": {
        "id": "0b7ea863"
      },
      "source": [
        "#### 4. How to find the memory size of any array (★☆☆)"
      ],
      "id": "0b7ea863"
    },
    {
      "cell_type": "markdown",
      "metadata": {
        "id": "PANvRfLazI8j"
      },
      "source": [
        "[`ndarray.itemsize`](https://numpy.org/doc/stable/reference/generated/numpy.ndarray.itemsize.html)\n",
        "\n",
        "[`ndarray.size`](https://numpy.org/doc/stable/reference/generated/numpy.ndarray.size.html)"
      ],
      "id": "PANvRfLazI8j"
    },
    {
      "cell_type": "code",
      "metadata": {
        "id": "ac12eeb3",
        "outputId": "a097b41e-73d8-45f3-a873-bad8f7e31bec",
        "colab": {
          "base_uri": "https://localhost:8080/"
        }
      },
      "source": [
        "arr1 = np.ones((5,5))\n",
        "# ndarray.size will give the number of elements in the array\n",
        "\n",
        "print(f\"Size of arr1 in bytes: {A.size * A.itemsize}\")"
      ],
      "id": "ac12eeb3",
      "execution_count": 11,
      "outputs": [
        {
          "output_type": "stream",
          "text": [
            "Size of arr1 in bytes: 200\n"
          ],
          "name": "stdout"
        }
      ]
    },
    {
      "cell_type": "markdown",
      "metadata": {
        "id": "399ac53c"
      },
      "source": [
        "#### 5. How to get the documentation of the numpy add function from the command line? (★☆☆)"
      ],
      "id": "399ac53c"
    },
    {
      "cell_type": "code",
      "metadata": {
        "id": "8706e03d"
      },
      "source": [
        ""
      ],
      "id": "8706e03d",
      "execution_count": null,
      "outputs": []
    },
    {
      "cell_type": "markdown",
      "metadata": {
        "id": "94fb58be"
      },
      "source": [
        "#### 6. Create a null vector of size 10 but the fifth value which is 1 (★☆☆)"
      ],
      "id": "94fb58be"
    },
    {
      "cell_type": "code",
      "metadata": {
        "id": "618f340f"
      },
      "source": [
        ""
      ],
      "id": "618f340f",
      "execution_count": null,
      "outputs": []
    },
    {
      "cell_type": "markdown",
      "metadata": {
        "id": "d577e66c"
      },
      "source": [
        "#### 7. Create a vector with values ranging from 10 to 49 (★☆☆)"
      ],
      "id": "d577e66c"
    },
    {
      "cell_type": "code",
      "metadata": {
        "id": "091a60f4"
      },
      "source": [
        ""
      ],
      "id": "091a60f4",
      "execution_count": null,
      "outputs": []
    },
    {
      "cell_type": "markdown",
      "metadata": {
        "id": "bc9c60e2"
      },
      "source": [
        "#### 8. Reverse a vector (first element becomes last) (★☆☆)"
      ],
      "id": "bc9c60e2"
    },
    {
      "cell_type": "code",
      "metadata": {
        "id": "23978628"
      },
      "source": [
        ""
      ],
      "id": "23978628",
      "execution_count": null,
      "outputs": []
    },
    {
      "cell_type": "markdown",
      "metadata": {
        "id": "7454fb7b"
      },
      "source": [
        "#### 9. Create a 3x3 matrix with values ranging from 0 to 8 (★☆☆)"
      ],
      "id": "7454fb7b"
    },
    {
      "cell_type": "code",
      "metadata": {
        "id": "28f9a38f"
      },
      "source": [
        ""
      ],
      "id": "28f9a38f",
      "execution_count": null,
      "outputs": []
    },
    {
      "cell_type": "markdown",
      "metadata": {
        "id": "caf21358"
      },
      "source": [
        "#### 10. Find indices of non-zero elements from [1,2,0,0,4,0] (★☆☆)"
      ],
      "id": "caf21358"
    },
    {
      "cell_type": "code",
      "metadata": {
        "id": "d390f4e1"
      },
      "source": [
        ""
      ],
      "id": "d390f4e1",
      "execution_count": null,
      "outputs": []
    },
    {
      "cell_type": "markdown",
      "metadata": {
        "id": "1dd829ac"
      },
      "source": [
        "#### 11. Create a 3x3 identity matrix (★☆☆)"
      ],
      "id": "1dd829ac"
    },
    {
      "cell_type": "code",
      "metadata": {
        "id": "1dde894f"
      },
      "source": [
        ""
      ],
      "id": "1dde894f",
      "execution_count": null,
      "outputs": []
    },
    {
      "cell_type": "markdown",
      "metadata": {
        "id": "322aa74e"
      },
      "source": [
        "#### 12. Create a 3x3x3 array with random values (★☆☆)"
      ],
      "id": "322aa74e"
    },
    {
      "cell_type": "code",
      "metadata": {
        "id": "1f5c8d38"
      },
      "source": [
        ""
      ],
      "id": "1f5c8d38",
      "execution_count": null,
      "outputs": []
    },
    {
      "cell_type": "markdown",
      "metadata": {
        "id": "82e8c932"
      },
      "source": [
        "#### 13. Create a 10x10 array with random values and find the minimum and maximum values (★☆☆)"
      ],
      "id": "82e8c932"
    },
    {
      "cell_type": "code",
      "metadata": {
        "id": "85c6a59d"
      },
      "source": [
        ""
      ],
      "id": "85c6a59d",
      "execution_count": null,
      "outputs": []
    },
    {
      "cell_type": "markdown",
      "metadata": {
        "id": "c78b3d5e"
      },
      "source": [
        "#### 14. Create a random vector of size 30 and find the mean value (★☆☆)"
      ],
      "id": "c78b3d5e"
    },
    {
      "cell_type": "code",
      "metadata": {
        "id": "37149237"
      },
      "source": [
        ""
      ],
      "id": "37149237",
      "execution_count": null,
      "outputs": []
    },
    {
      "cell_type": "markdown",
      "metadata": {
        "id": "c07320af"
      },
      "source": [
        "#### 15. Create a 2d array with 1 on the border and 0 inside (★☆☆)"
      ],
      "id": "c07320af"
    },
    {
      "cell_type": "code",
      "metadata": {
        "id": "19897ca9"
      },
      "source": [
        ""
      ],
      "id": "19897ca9",
      "execution_count": null,
      "outputs": []
    },
    {
      "cell_type": "markdown",
      "metadata": {
        "id": "c6d094c4"
      },
      "source": [
        "#### 16. How to add a border (filled with 0's) around an existing array? (★☆☆)"
      ],
      "id": "c6d094c4"
    },
    {
      "cell_type": "code",
      "metadata": {
        "id": "9c05295e"
      },
      "source": [
        ""
      ],
      "id": "9c05295e",
      "execution_count": null,
      "outputs": []
    },
    {
      "cell_type": "markdown",
      "metadata": {
        "id": "6e00ebde"
      },
      "source": [
        "#### 17. What is the result of the following expression? (★☆☆)\n",
        "```python\n",
        "0 * np.nan\n",
        "np.nan == np.nan\n",
        "np.inf > np.nan\n",
        "np.nan - np.nan\n",
        "np.nan in set([np.nan])\n",
        "0.3 == 3 * 0.1\n",
        "```"
      ],
      "id": "6e00ebde"
    },
    {
      "cell_type": "code",
      "metadata": {
        "id": "5015d2a2"
      },
      "source": [
        ""
      ],
      "id": "5015d2a2",
      "execution_count": null,
      "outputs": []
    },
    {
      "cell_type": "markdown",
      "metadata": {
        "id": "ffee7be0"
      },
      "source": [
        "#### 18. Create a 5x5 matrix with values 1,2,3,4 just below the diagonal (★☆☆)"
      ],
      "id": "ffee7be0"
    },
    {
      "cell_type": "code",
      "metadata": {
        "id": "2db510c1"
      },
      "source": [
        ""
      ],
      "id": "2db510c1",
      "execution_count": null,
      "outputs": []
    },
    {
      "cell_type": "markdown",
      "metadata": {
        "id": "0c687bd7"
      },
      "source": [
        "#### 19. Create a 8x8 matrix and fill it with a checkerboard pattern (★☆☆)"
      ],
      "id": "0c687bd7"
    },
    {
      "cell_type": "code",
      "metadata": {
        "id": "c7a51f78"
      },
      "source": [
        ""
      ],
      "id": "c7a51f78",
      "execution_count": null,
      "outputs": []
    },
    {
      "cell_type": "markdown",
      "metadata": {
        "id": "46c55b45"
      },
      "source": [
        "#### 20. Consider a (6,7,8) shape array, what is the index (x,y,z) of the 100th element?"
      ],
      "id": "46c55b45"
    },
    {
      "cell_type": "code",
      "metadata": {
        "id": "d95d1406"
      },
      "source": [
        ""
      ],
      "id": "d95d1406",
      "execution_count": null,
      "outputs": []
    },
    {
      "cell_type": "markdown",
      "metadata": {
        "id": "4898dddb"
      },
      "source": [
        "#### 21. Create a checkerboard 8x8 matrix using the tile function (★☆☆)"
      ],
      "id": "4898dddb"
    },
    {
      "cell_type": "code",
      "metadata": {
        "id": "de7dc9d8"
      },
      "source": [
        ""
      ],
      "id": "de7dc9d8",
      "execution_count": null,
      "outputs": []
    },
    {
      "cell_type": "markdown",
      "metadata": {
        "id": "ef2963f0"
      },
      "source": [
        "#### 22. Normalize a 5x5 random matrix (★☆☆)"
      ],
      "id": "ef2963f0"
    },
    {
      "cell_type": "code",
      "metadata": {
        "id": "f92f76ce"
      },
      "source": [
        ""
      ],
      "id": "f92f76ce",
      "execution_count": null,
      "outputs": []
    },
    {
      "cell_type": "markdown",
      "metadata": {
        "id": "09390c44"
      },
      "source": [
        "#### 23. Create a custom dtype that describes a color as four unsigned bytes (RGBA) (★☆☆)"
      ],
      "id": "09390c44"
    },
    {
      "cell_type": "code",
      "metadata": {
        "id": "86bea398"
      },
      "source": [
        ""
      ],
      "id": "86bea398",
      "execution_count": null,
      "outputs": []
    },
    {
      "cell_type": "markdown",
      "metadata": {
        "id": "e8ff25fc"
      },
      "source": [
        "#### 24. Multiply a 5x3 matrix by a 3x2 matrix (real matrix product) (★☆☆)"
      ],
      "id": "e8ff25fc"
    },
    {
      "cell_type": "code",
      "metadata": {
        "id": "bcb2fa2e"
      },
      "source": [
        ""
      ],
      "id": "bcb2fa2e",
      "execution_count": null,
      "outputs": []
    },
    {
      "cell_type": "markdown",
      "metadata": {
        "id": "ce43c805"
      },
      "source": [
        "#### 25. Given a 1D array, negate all elements which are between 3 and 8, in place. (★☆☆)"
      ],
      "id": "ce43c805"
    },
    {
      "cell_type": "code",
      "metadata": {
        "id": "2b915f12"
      },
      "source": [
        ""
      ],
      "id": "2b915f12",
      "execution_count": null,
      "outputs": []
    },
    {
      "cell_type": "markdown",
      "metadata": {
        "id": "20696fea"
      },
      "source": [
        "#### 26. What is the output of the following script? (★☆☆)\n",
        "```python\n",
        "# Author: Jake VanderPlas\n",
        "\n",
        "print(sum(range(5),-1))\n",
        "from numpy import *\n",
        "print(sum(range(5),-1))\n",
        "```"
      ],
      "id": "20696fea"
    },
    {
      "cell_type": "code",
      "metadata": {
        "id": "89d43108"
      },
      "source": [
        ""
      ],
      "id": "89d43108",
      "execution_count": null,
      "outputs": []
    },
    {
      "cell_type": "markdown",
      "metadata": {
        "id": "9f3e3396"
      },
      "source": [
        "#### 27. Consider an integer vector Z, which of these expressions are legal? (★☆☆)\n",
        "```python\n",
        "Z**Z\n",
        "2 << Z >> 2\n",
        "Z <- Z\n",
        "1j*Z\n",
        "Z/1/1\n",
        "Z<Z>Z\n",
        "```"
      ],
      "id": "9f3e3396"
    },
    {
      "cell_type": "code",
      "metadata": {
        "id": "fa6a4ad1"
      },
      "source": [
        ""
      ],
      "id": "fa6a4ad1",
      "execution_count": null,
      "outputs": []
    },
    {
      "cell_type": "markdown",
      "metadata": {
        "id": "99a826bb"
      },
      "source": [
        "#### 28. What are the result of the following expressions?\n",
        "```python\n",
        "np.array(0) / np.array(0)\n",
        "np.array(0) // np.array(0)\n",
        "np.array([np.nan]).astype(int).astype(float)\n",
        "```"
      ],
      "id": "99a826bb"
    },
    {
      "cell_type": "code",
      "metadata": {
        "id": "f5178b8b"
      },
      "source": [
        ""
      ],
      "id": "f5178b8b",
      "execution_count": null,
      "outputs": []
    },
    {
      "cell_type": "markdown",
      "metadata": {
        "id": "04270e58"
      },
      "source": [
        "#### 29. How to round away from zero a float array ? (★☆☆)"
      ],
      "id": "04270e58"
    },
    {
      "cell_type": "code",
      "metadata": {
        "id": "7dcb8271"
      },
      "source": [
        ""
      ],
      "id": "7dcb8271",
      "execution_count": null,
      "outputs": []
    },
    {
      "cell_type": "markdown",
      "metadata": {
        "id": "186af0bd"
      },
      "source": [
        "#### 30. How to find common values between two arrays? (★☆☆)"
      ],
      "id": "186af0bd"
    },
    {
      "cell_type": "code",
      "metadata": {
        "id": "751ce3d6"
      },
      "source": [
        ""
      ],
      "id": "751ce3d6",
      "execution_count": null,
      "outputs": []
    },
    {
      "cell_type": "markdown",
      "metadata": {
        "id": "8dc246e6"
      },
      "source": [
        "#### 31. How to ignore all numpy warnings (not recommended)? (★☆☆)"
      ],
      "id": "8dc246e6"
    },
    {
      "cell_type": "code",
      "metadata": {
        "id": "882d5831"
      },
      "source": [
        ""
      ],
      "id": "882d5831",
      "execution_count": null,
      "outputs": []
    },
    {
      "cell_type": "markdown",
      "metadata": {
        "id": "46286b98"
      },
      "source": [
        "#### 32. Is the following expressions true? (★☆☆)\n",
        "```python\n",
        "np.sqrt(-1) == np.emath.sqrt(-1)\n",
        "```"
      ],
      "id": "46286b98"
    },
    {
      "cell_type": "code",
      "metadata": {
        "id": "35b2ee6a"
      },
      "source": [
        ""
      ],
      "id": "35b2ee6a",
      "execution_count": null,
      "outputs": []
    },
    {
      "cell_type": "markdown",
      "metadata": {
        "id": "c19f893b"
      },
      "source": [
        "#### 33. How to get the dates of yesterday, today and tomorrow? (★☆☆)"
      ],
      "id": "c19f893b"
    },
    {
      "cell_type": "code",
      "metadata": {
        "id": "39f552e8"
      },
      "source": [
        ""
      ],
      "id": "39f552e8",
      "execution_count": null,
      "outputs": []
    },
    {
      "cell_type": "markdown",
      "metadata": {
        "id": "7507fb36"
      },
      "source": [
        "#### 34. How to get all the dates corresponding to the month of July 2016? (★★☆)"
      ],
      "id": "7507fb36"
    },
    {
      "cell_type": "code",
      "metadata": {
        "id": "23c538eb"
      },
      "source": [
        ""
      ],
      "id": "23c538eb",
      "execution_count": null,
      "outputs": []
    },
    {
      "cell_type": "markdown",
      "metadata": {
        "id": "d62fba94"
      },
      "source": [
        "#### 35. How to compute ((A+B)*(-A/2)) in place (without copy)? (★★☆)"
      ],
      "id": "d62fba94"
    },
    {
      "cell_type": "code",
      "metadata": {
        "id": "b517ffa9"
      },
      "source": [
        ""
      ],
      "id": "b517ffa9",
      "execution_count": null,
      "outputs": []
    },
    {
      "cell_type": "markdown",
      "metadata": {
        "id": "0593c304"
      },
      "source": [
        "#### 36. Extract the integer part of a random array of positive numbers using 4 different methods (★★☆)"
      ],
      "id": "0593c304"
    },
    {
      "cell_type": "code",
      "metadata": {
        "id": "9c7ad92e"
      },
      "source": [
        ""
      ],
      "id": "9c7ad92e",
      "execution_count": null,
      "outputs": []
    },
    {
      "cell_type": "markdown",
      "metadata": {
        "id": "e90b042b"
      },
      "source": [
        "#### 37. Create a 5x5 matrix with row values ranging from 0 to 4 (★★☆)"
      ],
      "id": "e90b042b"
    },
    {
      "cell_type": "code",
      "metadata": {
        "id": "7892b4b0"
      },
      "source": [
        ""
      ],
      "id": "7892b4b0",
      "execution_count": null,
      "outputs": []
    },
    {
      "cell_type": "markdown",
      "metadata": {
        "id": "a2d7df8e"
      },
      "source": [
        "#### 38. Consider a generator function that generates 10 integers and use it to build an array (★☆☆)"
      ],
      "id": "a2d7df8e"
    },
    {
      "cell_type": "code",
      "metadata": {
        "id": "5f323469"
      },
      "source": [
        ""
      ],
      "id": "5f323469",
      "execution_count": null,
      "outputs": []
    },
    {
      "cell_type": "markdown",
      "metadata": {
        "id": "064c68c0"
      },
      "source": [
        "#### 39. Create a vector of size 10 with values ranging from 0 to 1, both excluded (★★☆)"
      ],
      "id": "064c68c0"
    },
    {
      "cell_type": "code",
      "metadata": {
        "id": "a179d69e"
      },
      "source": [
        ""
      ],
      "id": "a179d69e",
      "execution_count": null,
      "outputs": []
    },
    {
      "cell_type": "markdown",
      "metadata": {
        "id": "5682b5b3"
      },
      "source": [
        "#### 40. Create a random vector of size 10 and sort it (★★☆)"
      ],
      "id": "5682b5b3"
    },
    {
      "cell_type": "code",
      "metadata": {
        "id": "f5e5b511"
      },
      "source": [
        ""
      ],
      "id": "f5e5b511",
      "execution_count": null,
      "outputs": []
    },
    {
      "cell_type": "markdown",
      "metadata": {
        "id": "c8831686"
      },
      "source": [
        "#### 41. How to sum a small array faster than np.sum? (★★☆)"
      ],
      "id": "c8831686"
    },
    {
      "cell_type": "code",
      "metadata": {
        "id": "31c6ec4d"
      },
      "source": [
        ""
      ],
      "id": "31c6ec4d",
      "execution_count": null,
      "outputs": []
    },
    {
      "cell_type": "markdown",
      "metadata": {
        "id": "c39eed1e"
      },
      "source": [
        "#### 42. Consider two random array A and B, check if they are equal (★★☆)"
      ],
      "id": "c39eed1e"
    },
    {
      "cell_type": "code",
      "metadata": {
        "id": "c4bf0ba3"
      },
      "source": [
        ""
      ],
      "id": "c4bf0ba3",
      "execution_count": null,
      "outputs": []
    },
    {
      "cell_type": "markdown",
      "metadata": {
        "id": "ffafa4aa"
      },
      "source": [
        "#### 43. Make an array immutable (read-only) (★★☆)"
      ],
      "id": "ffafa4aa"
    },
    {
      "cell_type": "code",
      "metadata": {
        "id": "c237c0d2"
      },
      "source": [
        ""
      ],
      "id": "c237c0d2",
      "execution_count": null,
      "outputs": []
    },
    {
      "cell_type": "markdown",
      "metadata": {
        "id": "86886e5e"
      },
      "source": [
        "#### 44. Consider a random 10x2 matrix representing cartesian coordinates, convert them to polar coordinates (★★☆)"
      ],
      "id": "86886e5e"
    },
    {
      "cell_type": "code",
      "metadata": {
        "id": "5146f04c"
      },
      "source": [
        ""
      ],
      "id": "5146f04c",
      "execution_count": null,
      "outputs": []
    },
    {
      "cell_type": "markdown",
      "metadata": {
        "id": "50740a46"
      },
      "source": [
        "#### 45. Create random vector of size 10 and replace the maximum value by 0 (★★☆)"
      ],
      "id": "50740a46"
    },
    {
      "cell_type": "code",
      "metadata": {
        "id": "2c11ffdd"
      },
      "source": [
        ""
      ],
      "id": "2c11ffdd",
      "execution_count": null,
      "outputs": []
    },
    {
      "cell_type": "markdown",
      "metadata": {
        "id": "5979e3ee"
      },
      "source": [
        "#### 46. Create a structured array with `x` and `y` coordinates covering the [0,1]x[0,1] area (★★☆)"
      ],
      "id": "5979e3ee"
    },
    {
      "cell_type": "code",
      "metadata": {
        "id": "0747c0d6"
      },
      "source": [
        ""
      ],
      "id": "0747c0d6",
      "execution_count": null,
      "outputs": []
    },
    {
      "cell_type": "markdown",
      "metadata": {
        "id": "cd53abc3"
      },
      "source": [
        "#### 47. Given two arrays, X and Y, construct the Cauchy matrix C (Cij =1/(xi - yj))"
      ],
      "id": "cd53abc3"
    },
    {
      "cell_type": "code",
      "metadata": {
        "id": "2d14d9b7"
      },
      "source": [
        ""
      ],
      "id": "2d14d9b7",
      "execution_count": null,
      "outputs": []
    },
    {
      "cell_type": "markdown",
      "metadata": {
        "id": "37875f0d"
      },
      "source": [
        "#### 48. Print the minimum and maximum representable value for each numpy scalar type (★★☆)"
      ],
      "id": "37875f0d"
    },
    {
      "cell_type": "code",
      "metadata": {
        "id": "1578e3fa"
      },
      "source": [
        ""
      ],
      "id": "1578e3fa",
      "execution_count": null,
      "outputs": []
    },
    {
      "cell_type": "markdown",
      "metadata": {
        "id": "aa4ce1fd"
      },
      "source": [
        "#### 49. How to print all the values of an array? (★★☆)"
      ],
      "id": "aa4ce1fd"
    },
    {
      "cell_type": "code",
      "metadata": {
        "id": "4f1e9847"
      },
      "source": [
        ""
      ],
      "id": "4f1e9847",
      "execution_count": null,
      "outputs": []
    },
    {
      "cell_type": "markdown",
      "metadata": {
        "id": "ae637202"
      },
      "source": [
        "#### 50. How to find the closest value (to a given scalar) in a vector? (★★☆)"
      ],
      "id": "ae637202"
    },
    {
      "cell_type": "code",
      "metadata": {
        "id": "c4546e5c"
      },
      "source": [
        ""
      ],
      "id": "c4546e5c",
      "execution_count": null,
      "outputs": []
    },
    {
      "cell_type": "markdown",
      "metadata": {
        "id": "93157464"
      },
      "source": [
        "#### 51. Create a structured array representing a position (x,y) and a color (r,g,b) (★★☆)"
      ],
      "id": "93157464"
    },
    {
      "cell_type": "code",
      "metadata": {
        "id": "69c4b979"
      },
      "source": [
        ""
      ],
      "id": "69c4b979",
      "execution_count": null,
      "outputs": []
    },
    {
      "cell_type": "markdown",
      "metadata": {
        "id": "07ebafa2"
      },
      "source": [
        "#### 52. Consider a random vector with shape (100,2) representing coordinates, find point by point distances (★★☆)"
      ],
      "id": "07ebafa2"
    },
    {
      "cell_type": "code",
      "metadata": {
        "id": "2db3c3e5"
      },
      "source": [
        ""
      ],
      "id": "2db3c3e5",
      "execution_count": null,
      "outputs": []
    },
    {
      "cell_type": "markdown",
      "metadata": {
        "id": "fb93d503"
      },
      "source": [
        "#### 53. How to convert a float (32 bits) array into an integer (32 bits) in place?"
      ],
      "id": "fb93d503"
    },
    {
      "cell_type": "code",
      "metadata": {
        "id": "67231bf2"
      },
      "source": [
        ""
      ],
      "id": "67231bf2",
      "execution_count": null,
      "outputs": []
    },
    {
      "cell_type": "markdown",
      "metadata": {
        "id": "9c0ce40b"
      },
      "source": [
        "#### 54. How to read the following file? (★★☆)\n",
        "```\n",
        "1, 2, 3, 4, 5\n",
        "6,  ,  , 7, 8\n",
        " ,  , 9,10,11\n",
        "```"
      ],
      "id": "9c0ce40b"
    },
    {
      "cell_type": "code",
      "metadata": {
        "id": "aecef043"
      },
      "source": [
        ""
      ],
      "id": "aecef043",
      "execution_count": null,
      "outputs": []
    },
    {
      "cell_type": "markdown",
      "metadata": {
        "id": "bdfe9e5d"
      },
      "source": [
        "#### 55. What is the equivalent of enumerate for numpy arrays? (★★☆)"
      ],
      "id": "bdfe9e5d"
    },
    {
      "cell_type": "code",
      "metadata": {
        "id": "bcc193c9"
      },
      "source": [
        ""
      ],
      "id": "bcc193c9",
      "execution_count": null,
      "outputs": []
    },
    {
      "cell_type": "markdown",
      "metadata": {
        "id": "fa2e5fc9"
      },
      "source": [
        "#### 56. Generate a generic 2D Gaussian-like array (★★☆)"
      ],
      "id": "fa2e5fc9"
    },
    {
      "cell_type": "code",
      "metadata": {
        "id": "7b94a92a"
      },
      "source": [
        ""
      ],
      "id": "7b94a92a",
      "execution_count": null,
      "outputs": []
    },
    {
      "cell_type": "markdown",
      "metadata": {
        "id": "465a1ea4"
      },
      "source": [
        "#### 57. How to randomly place p elements in a 2D array? (★★☆)"
      ],
      "id": "465a1ea4"
    },
    {
      "cell_type": "code",
      "metadata": {
        "id": "c2d1d13f"
      },
      "source": [
        ""
      ],
      "id": "c2d1d13f",
      "execution_count": null,
      "outputs": []
    },
    {
      "cell_type": "markdown",
      "metadata": {
        "id": "d75998b5"
      },
      "source": [
        "#### 58. Subtract the mean of each row of a matrix (★★☆)"
      ],
      "id": "d75998b5"
    },
    {
      "cell_type": "code",
      "metadata": {
        "id": "44c2043a"
      },
      "source": [
        ""
      ],
      "id": "44c2043a",
      "execution_count": null,
      "outputs": []
    },
    {
      "cell_type": "markdown",
      "metadata": {
        "id": "4f2e8b7a"
      },
      "source": [
        "#### 59. How to sort an array by the nth column? (★★☆)"
      ],
      "id": "4f2e8b7a"
    },
    {
      "cell_type": "code",
      "metadata": {
        "id": "d0b80ded"
      },
      "source": [
        ""
      ],
      "id": "d0b80ded",
      "execution_count": null,
      "outputs": []
    },
    {
      "cell_type": "markdown",
      "metadata": {
        "id": "be56980d"
      },
      "source": [
        "#### 60. How to tell if a given 2D array has null columns? (★★☆)"
      ],
      "id": "be56980d"
    },
    {
      "cell_type": "code",
      "metadata": {
        "id": "6dc4eaf6"
      },
      "source": [
        ""
      ],
      "id": "6dc4eaf6",
      "execution_count": null,
      "outputs": []
    },
    {
      "cell_type": "markdown",
      "metadata": {
        "id": "92e0b60c"
      },
      "source": [
        "#### 61. Find the nearest value from a given value in an array (★★☆)"
      ],
      "id": "92e0b60c"
    },
    {
      "cell_type": "code",
      "metadata": {
        "id": "0b37b462"
      },
      "source": [
        ""
      ],
      "id": "0b37b462",
      "execution_count": null,
      "outputs": []
    },
    {
      "cell_type": "markdown",
      "metadata": {
        "id": "476bb933"
      },
      "source": [
        "#### 62. Considering two arrays with shape (1,3) and (3,1), how to compute their sum using an iterator? (★★☆)"
      ],
      "id": "476bb933"
    },
    {
      "cell_type": "code",
      "metadata": {
        "id": "33c8566d"
      },
      "source": [
        ""
      ],
      "id": "33c8566d",
      "execution_count": null,
      "outputs": []
    },
    {
      "cell_type": "markdown",
      "metadata": {
        "id": "64aea808"
      },
      "source": [
        "#### 63. Create an array class that has a name attribute (★★☆)"
      ],
      "id": "64aea808"
    },
    {
      "cell_type": "code",
      "metadata": {
        "id": "db81ac8b"
      },
      "source": [
        ""
      ],
      "id": "db81ac8b",
      "execution_count": null,
      "outputs": []
    },
    {
      "cell_type": "markdown",
      "metadata": {
        "id": "fb0a4de3"
      },
      "source": [
        "#### 64. Consider a given vector, how to add 1 to each element indexed by a second vector (be careful with repeated indices)? (★★★)"
      ],
      "id": "fb0a4de3"
    },
    {
      "cell_type": "code",
      "metadata": {
        "id": "4726a17d"
      },
      "source": [
        ""
      ],
      "id": "4726a17d",
      "execution_count": null,
      "outputs": []
    },
    {
      "cell_type": "markdown",
      "metadata": {
        "id": "ae1a4b8d"
      },
      "source": [
        "#### 65. How to accumulate elements of a vector (X) to an array (F) based on an index list (I)? (★★★)"
      ],
      "id": "ae1a4b8d"
    },
    {
      "cell_type": "code",
      "metadata": {
        "id": "2d0f1ee4"
      },
      "source": [
        ""
      ],
      "id": "2d0f1ee4",
      "execution_count": null,
      "outputs": []
    },
    {
      "cell_type": "markdown",
      "metadata": {
        "id": "a5127520"
      },
      "source": [
        "#### 66. Considering a (w,h,3) image of (dtype=ubyte), compute the number of unique colors (★★☆)"
      ],
      "id": "a5127520"
    },
    {
      "cell_type": "code",
      "metadata": {
        "id": "546bc0a2"
      },
      "source": [
        ""
      ],
      "id": "546bc0a2",
      "execution_count": null,
      "outputs": []
    },
    {
      "cell_type": "markdown",
      "metadata": {
        "id": "1eaa1407"
      },
      "source": [
        "#### 67. Considering a four dimensions array, how to get sum over the last two axis at once? (★★★)"
      ],
      "id": "1eaa1407"
    },
    {
      "cell_type": "code",
      "metadata": {
        "id": "7823c50c"
      },
      "source": [
        ""
      ],
      "id": "7823c50c",
      "execution_count": null,
      "outputs": []
    },
    {
      "cell_type": "markdown",
      "metadata": {
        "id": "18cd6a16"
      },
      "source": [
        "#### 68. Considering a one-dimensional vector D, how to compute means of subsets of D using a vector S of same size describing subset  indices? (★★★)"
      ],
      "id": "18cd6a16"
    },
    {
      "cell_type": "code",
      "metadata": {
        "id": "2185257f"
      },
      "source": [
        ""
      ],
      "id": "2185257f",
      "execution_count": null,
      "outputs": []
    },
    {
      "cell_type": "markdown",
      "metadata": {
        "id": "fb2b3f5d"
      },
      "source": [
        "#### 69. How to get the diagonal of a dot product? (★★★)"
      ],
      "id": "fb2b3f5d"
    },
    {
      "cell_type": "code",
      "metadata": {
        "id": "8ada08d1"
      },
      "source": [
        ""
      ],
      "id": "8ada08d1",
      "execution_count": null,
      "outputs": []
    },
    {
      "cell_type": "markdown",
      "metadata": {
        "id": "3bb7807e"
      },
      "source": [
        "#### 70. Consider the vector [1, 2, 3, 4, 5], how to build a new vector with 3 consecutive zeros interleaved between each value? (★★★)"
      ],
      "id": "3bb7807e"
    },
    {
      "cell_type": "code",
      "metadata": {
        "id": "c173afdb"
      },
      "source": [
        ""
      ],
      "id": "c173afdb",
      "execution_count": null,
      "outputs": []
    },
    {
      "cell_type": "markdown",
      "metadata": {
        "id": "40e4d74e"
      },
      "source": [
        "#### 71. Consider an array of dimension (5,5,3), how to mulitply it by an array with dimensions (5,5)? (★★★)"
      ],
      "id": "40e4d74e"
    },
    {
      "cell_type": "code",
      "metadata": {
        "id": "32d15813"
      },
      "source": [
        ""
      ],
      "id": "32d15813",
      "execution_count": null,
      "outputs": []
    },
    {
      "cell_type": "markdown",
      "metadata": {
        "id": "9ee9c5cc"
      },
      "source": [
        "#### 72. How to swap two rows of an array? (★★★)"
      ],
      "id": "9ee9c5cc"
    },
    {
      "cell_type": "code",
      "metadata": {
        "id": "8499665c"
      },
      "source": [
        ""
      ],
      "id": "8499665c",
      "execution_count": null,
      "outputs": []
    },
    {
      "cell_type": "markdown",
      "metadata": {
        "id": "2a16d4e2"
      },
      "source": [
        "#### 73. Consider a set of 10 triplets describing 10 triangles (with shared vertices), find the set of unique line segments composing all the  triangles (★★★)"
      ],
      "id": "2a16d4e2"
    },
    {
      "cell_type": "code",
      "metadata": {
        "id": "4f2c6e17"
      },
      "source": [
        ""
      ],
      "id": "4f2c6e17",
      "execution_count": null,
      "outputs": []
    },
    {
      "cell_type": "markdown",
      "metadata": {
        "id": "75bbcb12"
      },
      "source": [
        "#### 74. Given a sorted array C that corresponds to a bincount, how to produce an array A such that np.bincount(A) == C? (★★★)"
      ],
      "id": "75bbcb12"
    },
    {
      "cell_type": "code",
      "metadata": {
        "id": "46ebf898"
      },
      "source": [
        ""
      ],
      "id": "46ebf898",
      "execution_count": null,
      "outputs": []
    },
    {
      "cell_type": "markdown",
      "metadata": {
        "id": "605b5b91"
      },
      "source": [
        "#### 75. How to compute averages using a sliding window over an array? (★★★)"
      ],
      "id": "605b5b91"
    },
    {
      "cell_type": "code",
      "metadata": {
        "id": "b6f28d8a"
      },
      "source": [
        ""
      ],
      "id": "b6f28d8a",
      "execution_count": null,
      "outputs": []
    },
    {
      "cell_type": "markdown",
      "metadata": {
        "id": "0a83c91b"
      },
      "source": [
        "#### 76. Consider a one-dimensional array Z, build a two-dimensional array whose first row is (Z[0],Z[1],Z[2]) and each subsequent row is  shifted by 1 (last row should be (Z[-3],Z[-2],Z[-1]) (★★★)"
      ],
      "id": "0a83c91b"
    },
    {
      "cell_type": "code",
      "metadata": {
        "id": "78b4cfb4"
      },
      "source": [
        ""
      ],
      "id": "78b4cfb4",
      "execution_count": null,
      "outputs": []
    },
    {
      "cell_type": "markdown",
      "metadata": {
        "id": "4be00d5e"
      },
      "source": [
        "#### 77. How to negate a boolean, or to change the sign of a float inplace? (★★★)"
      ],
      "id": "4be00d5e"
    },
    {
      "cell_type": "code",
      "metadata": {
        "id": "5ba94110"
      },
      "source": [
        ""
      ],
      "id": "5ba94110",
      "execution_count": null,
      "outputs": []
    },
    {
      "cell_type": "markdown",
      "metadata": {
        "id": "23ff5523"
      },
      "source": [
        "#### 78. Consider 2 sets of points P0,P1 describing lines (2d) and a point p, how to compute distance from p to each line i (P0[i],P1[i])? (★★★)"
      ],
      "id": "23ff5523"
    },
    {
      "cell_type": "code",
      "metadata": {
        "id": "4621c4e1"
      },
      "source": [
        ""
      ],
      "id": "4621c4e1",
      "execution_count": null,
      "outputs": []
    },
    {
      "cell_type": "markdown",
      "metadata": {
        "id": "bbba6526"
      },
      "source": [
        "#### 79. Consider 2 sets of points P0,P1 describing lines (2d) and a set of points P, how to compute distance from each point j (P[j]) to each line i (P0[i],P1[i])? (★★★)"
      ],
      "id": "bbba6526"
    },
    {
      "cell_type": "code",
      "metadata": {
        "id": "a38de46e"
      },
      "source": [
        ""
      ],
      "id": "a38de46e",
      "execution_count": null,
      "outputs": []
    },
    {
      "cell_type": "markdown",
      "metadata": {
        "id": "b70a0169"
      },
      "source": [
        "#### 80. Consider an arbitrary array, write a function that extract a subpart with a fixed shape and centered on a given element (pad with a `fill` value when necessary) (★★★)"
      ],
      "id": "b70a0169"
    },
    {
      "cell_type": "code",
      "metadata": {
        "id": "e286aa38"
      },
      "source": [
        ""
      ],
      "id": "e286aa38",
      "execution_count": null,
      "outputs": []
    },
    {
      "cell_type": "markdown",
      "metadata": {
        "id": "82577004"
      },
      "source": [
        "#### 81. Consider an array Z = [1,2,3,4,5,6,7,8,9,10,11,12,13,14], how to generate an array R = [[1,2,3,4], [2,3,4,5], [3,4,5,6], ..., [11,12,13,14]]? (★★★)"
      ],
      "id": "82577004"
    },
    {
      "cell_type": "code",
      "metadata": {
        "id": "299febc3"
      },
      "source": [
        ""
      ],
      "id": "299febc3",
      "execution_count": null,
      "outputs": []
    },
    {
      "cell_type": "markdown",
      "metadata": {
        "id": "19914b7e"
      },
      "source": [
        "#### 82. Compute a matrix rank (★★★)"
      ],
      "id": "19914b7e"
    },
    {
      "cell_type": "code",
      "metadata": {
        "id": "71b6d05e"
      },
      "source": [
        ""
      ],
      "id": "71b6d05e",
      "execution_count": null,
      "outputs": []
    },
    {
      "cell_type": "markdown",
      "metadata": {
        "id": "5b4702b1"
      },
      "source": [
        "#### 83. How to find the most frequent value in an array?"
      ],
      "id": "5b4702b1"
    },
    {
      "cell_type": "code",
      "metadata": {
        "id": "47392a08"
      },
      "source": [
        ""
      ],
      "id": "47392a08",
      "execution_count": null,
      "outputs": []
    },
    {
      "cell_type": "markdown",
      "metadata": {
        "id": "e2b4e6d4"
      },
      "source": [
        "#### 84. Extract all the contiguous 3x3 blocks from a random 10x10 matrix (★★★)"
      ],
      "id": "e2b4e6d4"
    },
    {
      "cell_type": "code",
      "metadata": {
        "id": "ecc7884c"
      },
      "source": [
        ""
      ],
      "id": "ecc7884c",
      "execution_count": null,
      "outputs": []
    },
    {
      "cell_type": "markdown",
      "metadata": {
        "id": "588931bf"
      },
      "source": [
        "#### 85. Create a 2D array subclass such that Z[i,j] == Z[j,i] (★★★)"
      ],
      "id": "588931bf"
    },
    {
      "cell_type": "code",
      "metadata": {
        "id": "16415e97"
      },
      "source": [
        ""
      ],
      "id": "16415e97",
      "execution_count": null,
      "outputs": []
    },
    {
      "cell_type": "markdown",
      "metadata": {
        "id": "3e2ada58"
      },
      "source": [
        "#### 86. Consider a set of p matrices wich shape (n,n) and a set of p vectors with shape (n,1). How to compute the sum of of the p matrix products at once? (result has shape (n,1)) (★★★)"
      ],
      "id": "3e2ada58"
    },
    {
      "cell_type": "code",
      "metadata": {
        "id": "b830123b"
      },
      "source": [
        ""
      ],
      "id": "b830123b",
      "execution_count": null,
      "outputs": []
    },
    {
      "cell_type": "markdown",
      "metadata": {
        "id": "dc24b132"
      },
      "source": [
        "#### 87. Consider a 16x16 array, how to get the block-sum (block size is 4x4)? (★★★)"
      ],
      "id": "dc24b132"
    },
    {
      "cell_type": "code",
      "metadata": {
        "id": "2aecf16c"
      },
      "source": [
        ""
      ],
      "id": "2aecf16c",
      "execution_count": null,
      "outputs": []
    },
    {
      "cell_type": "markdown",
      "metadata": {
        "id": "bc324c05"
      },
      "source": [
        "#### 88. How to implement the Game of Life using numpy arrays? (★★★)"
      ],
      "id": "bc324c05"
    },
    {
      "cell_type": "code",
      "metadata": {
        "id": "fb2f76d6"
      },
      "source": [
        ""
      ],
      "id": "fb2f76d6",
      "execution_count": null,
      "outputs": []
    },
    {
      "cell_type": "markdown",
      "metadata": {
        "id": "84266863"
      },
      "source": [
        "#### 89. How to get the n largest values of an array (★★★)"
      ],
      "id": "84266863"
    },
    {
      "cell_type": "code",
      "metadata": {
        "id": "3b353230"
      },
      "source": [
        ""
      ],
      "id": "3b353230",
      "execution_count": null,
      "outputs": []
    },
    {
      "cell_type": "markdown",
      "metadata": {
        "id": "4f5587b9"
      },
      "source": [
        "#### 90. Given an arbitrary number of vectors, build the cartesian product (every combinations of every item) (★★★)"
      ],
      "id": "4f5587b9"
    },
    {
      "cell_type": "code",
      "metadata": {
        "id": "3f752a18"
      },
      "source": [
        ""
      ],
      "id": "3f752a18",
      "execution_count": null,
      "outputs": []
    },
    {
      "cell_type": "markdown",
      "metadata": {
        "id": "b4c22657"
      },
      "source": [
        "#### 91. How to create a record array from a regular array? (★★★)"
      ],
      "id": "b4c22657"
    },
    {
      "cell_type": "code",
      "metadata": {
        "id": "a0dc0426"
      },
      "source": [
        ""
      ],
      "id": "a0dc0426",
      "execution_count": null,
      "outputs": []
    },
    {
      "cell_type": "markdown",
      "metadata": {
        "id": "bb9f1473"
      },
      "source": [
        "#### 92. Consider a large vector Z, compute Z to the power of 3 using 3 different methods (★★★)"
      ],
      "id": "bb9f1473"
    },
    {
      "cell_type": "code",
      "metadata": {
        "id": "0d585a57"
      },
      "source": [
        ""
      ],
      "id": "0d585a57",
      "execution_count": null,
      "outputs": []
    },
    {
      "cell_type": "markdown",
      "metadata": {
        "id": "3acb5b65"
      },
      "source": [
        "#### 93. Consider two arrays A and B of shape (8,3) and (2,2). How to find rows of A that contain elements of each row of B regardless of the order of the elements in B? (★★★)"
      ],
      "id": "3acb5b65"
    },
    {
      "cell_type": "code",
      "metadata": {
        "id": "f9e1e127"
      },
      "source": [
        ""
      ],
      "id": "f9e1e127",
      "execution_count": null,
      "outputs": []
    },
    {
      "cell_type": "markdown",
      "metadata": {
        "id": "f8f36be4"
      },
      "source": [
        "#### 94. Considering a 10x3 matrix, extract rows with unequal values (e.g. [2,2,3]) (★★★)"
      ],
      "id": "f8f36be4"
    },
    {
      "cell_type": "code",
      "metadata": {
        "id": "6caa0f63"
      },
      "source": [
        ""
      ],
      "id": "6caa0f63",
      "execution_count": null,
      "outputs": []
    },
    {
      "cell_type": "markdown",
      "metadata": {
        "id": "2065f6b5"
      },
      "source": [
        "#### 95. Convert a vector of ints into a matrix binary representation (★★★)"
      ],
      "id": "2065f6b5"
    },
    {
      "cell_type": "code",
      "metadata": {
        "id": "8a6afb88"
      },
      "source": [
        ""
      ],
      "id": "8a6afb88",
      "execution_count": null,
      "outputs": []
    },
    {
      "cell_type": "markdown",
      "metadata": {
        "id": "15953492"
      },
      "source": [
        "#### 96. Given a two dimensional array, how to extract unique rows? (★★★)"
      ],
      "id": "15953492"
    },
    {
      "cell_type": "code",
      "metadata": {
        "id": "2fbe8159"
      },
      "source": [
        ""
      ],
      "id": "2fbe8159",
      "execution_count": null,
      "outputs": []
    },
    {
      "cell_type": "markdown",
      "metadata": {
        "id": "95bce4fe"
      },
      "source": [
        "#### 97. Considering 2 vectors A & B, write the einsum equivalent of inner, outer, sum, and mul function (★★★)"
      ],
      "id": "95bce4fe"
    },
    {
      "cell_type": "code",
      "metadata": {
        "id": "07971442"
      },
      "source": [
        ""
      ],
      "id": "07971442",
      "execution_count": null,
      "outputs": []
    },
    {
      "cell_type": "markdown",
      "metadata": {
        "id": "6d728760"
      },
      "source": [
        "#### 98. Considering a path described by two vectors (X,Y), how to sample it using equidistant samples (★★★)?"
      ],
      "id": "6d728760"
    },
    {
      "cell_type": "code",
      "metadata": {
        "id": "2a30f221"
      },
      "source": [
        ""
      ],
      "id": "2a30f221",
      "execution_count": null,
      "outputs": []
    },
    {
      "cell_type": "markdown",
      "metadata": {
        "id": "5b3bbdc0"
      },
      "source": [
        "#### 99. Given an integer n and a 2D array X, select from X the rows which can be interpreted as draws from a multinomial distribution with n degrees, i.e., the rows which only contain integers and which sum to n. (★★★)"
      ],
      "id": "5b3bbdc0"
    },
    {
      "cell_type": "code",
      "metadata": {
        "id": "eb9bad02"
      },
      "source": [
        ""
      ],
      "id": "eb9bad02",
      "execution_count": null,
      "outputs": []
    },
    {
      "cell_type": "markdown",
      "metadata": {
        "id": "6295db88"
      },
      "source": [
        "#### 100. Compute bootstrapped 95% confidence intervals for the mean of a 1D array X (i.e., resample the elements of an array with replacement N times, compute the mean of each sample, and then compute percentiles over the means). (★★★)"
      ],
      "id": "6295db88"
    },
    {
      "cell_type": "code",
      "metadata": {
        "id": "94174a6b"
      },
      "source": [
        ""
      ],
      "id": "94174a6b",
      "execution_count": null,
      "outputs": []
    }
  ]
}